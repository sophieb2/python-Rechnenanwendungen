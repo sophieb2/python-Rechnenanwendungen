{
 "cells": [
  {
   "cell_type": "code",
   "execution_count": 1,
   "id": "360ff310-2bcb-44d8-8c28-defcdfa259d3",
   "metadata": {},
   "outputs": [],
   "source": [
    "import numpy as np\n",
    "import time\n",
    "import scipy.integrate as si\n",
    "import matplotlib.pyplot as plt"
   ]
  },
  {
   "cell_type": "code",
   "execution_count": 2,
   "id": "d675d874-b9c6-45e8-8a69-5e08ca453248",
   "metadata": {},
   "outputs": [],
   "source": [
    "def pivot(B, n):\n",
    "    a=[]\n",
    "    for j in range(n):\n",
    "        a.append(B[n-2]/B[n-1])\n",
    "        for i in range(n-2):\n",
    "            if(B[j][i]/B[j][n-1] < a[j]):\n",
    "                a[j]=B[j][i]/B[j][n-1]\n",
    "    ans=np.max(np.abs(B[:,:], acis=1))\n",
    "    piv=0\n",
    "    for j in range(n-1):\n",
    "        if (a[j]>a[piv]): piv=j\n",
    "    print(a[piv], ans)\n",
    "    return piv\n",
    "\n",
    "def forward_substitution (A, b):\n",
    "    n=A.shape[0]\n",
    "    x=np.zeros((n,1))\n",
    "    for row in range(n):\n",
    "        x[row]= (b[row]-(A[row,0:row+1] @ x[0:row+1])) / A[row,row] #???\n",
    "    return x"
   ]
  },
  {
   "cell_type": "code",
   "execution_count": 3,
   "id": "deae5475-9d2c-4d6c-a95c-07b666f06c9f",
   "metadata": {},
   "outputs": [],
   "source": [
    "def forward_elimination (A, b): #bring [A b] into a triangular form\n",
    "    n=A.shape[0]\n",
    "    B=np.hstack((A,b.reshape((n,1))))\n",
    "    #piv=pivot(B, n)\n",
    "    for row in range(0, n-1):\n",
    "        for i in range(row+1, n):\n",
    "            factor=B[i,row]/B[row,row]\n",
    "            B[i,row:]-=factor*B[row,row:]\n",
    "        print(\"B=\\n\", B)\n",
    "    return B[:,:-1], B[:,-1] #A as a triangle and b"
   ]
  },
  {
   "cell_type": "code",
   "execution_count": 4,
   "id": "2c796db7-5080-49fb-a644-19a35951f951",
   "metadata": {},
   "outputs": [],
   "source": [
    "def back_substitution (A, b):\n",
    "    n=A.shape[0]\n",
    "    x=np.zeros((n,1))\n",
    "    for row in range(n-1, -1, -1):\n",
    "        x[row]= (b[row]-(A[row,row+1:] @ x[row+1:])) / A[row,row]\n",
    "    return x"
   ]
  },
  {
   "cell_type": "code",
   "execution_count": 5,
   "id": "b7434ca4-ac18-4438-9ded-95913ace743a",
   "metadata": {},
   "outputs": [],
   "source": [
    "def gauss(A, b):\n",
    "    if any(np.diag(A)==0):\n",
    "        raise ZeroDevisionError(('Division by zero will occur; pivoting currently not supported'))\n",
    "    A,b=forward_elimination(A,b)\n",
    "    return back_substitution(A,b)"
   ]
  },
  {
   "cell_type": "code",
   "execution_count": 6,
   "id": "4d70f157-53fd-4e01-b484-beaf7a120799",
   "metadata": {},
   "outputs": [
    {
     "ename": "ValueError",
     "evalue": "The truth value of an array with more than one element is ambiguous. Use a.any() or a.all()",
     "output_type": "error",
     "traceback": [
      "\u001b[1;31m---------------------------------------------------------------------------\u001b[0m",
      "\u001b[1;31mValueError\u001b[0m                                Traceback (most recent call last)",
      "Input \u001b[1;32mIn [6]\u001b[0m, in \u001b[0;36m<cell line: 6>\u001b[1;34m()\u001b[0m\n\u001b[0;32m      1\u001b[0m A\u001b[38;5;241m=\u001b[39mnp\u001b[38;5;241m.\u001b[39marray([[\u001b[38;5;241m6.\u001b[39m, \u001b[38;5;241m-\u001b[39m\u001b[38;5;241m2.\u001b[39m, \u001b[38;5;241m2\u001b[39m, \u001b[38;5;241m4\u001b[39m],\n\u001b[0;32m      2\u001b[0m             [\u001b[38;5;241m-\u001b[39m\u001b[38;5;241m6\u001b[39m, \u001b[38;5;241m4\u001b[39m, \u001b[38;5;241m1\u001b[39m, \u001b[38;5;241m-\u001b[39m\u001b[38;5;241m18\u001b[39m],\n\u001b[0;32m      3\u001b[0m             [\u001b[38;5;241m12\u001b[39m, \u001b[38;5;241m-\u001b[39m\u001b[38;5;241m8\u001b[39m, \u001b[38;5;241m6\u001b[39m, \u001b[38;5;241m10\u001b[39m],\n\u001b[0;32m      4\u001b[0m             [\u001b[38;5;241m3\u001b[39m, \u001b[38;5;241m-\u001b[39m\u001b[38;5;241m13\u001b[39m, \u001b[38;5;241m9\u001b[39m, \u001b[38;5;241m3\u001b[39m]])\n\u001b[0;32m      5\u001b[0m b\u001b[38;5;241m=\u001b[39mnp\u001b[38;5;241m.\u001b[39marray([\u001b[38;5;241m16\u001b[39m, \u001b[38;5;241m-\u001b[39m\u001b[38;5;241m34\u001b[39m, \u001b[38;5;241m26\u001b[39m, \u001b[38;5;241m-\u001b[39m\u001b[38;5;241m19\u001b[39m])\n\u001b[1;32m----> 6\u001b[0m \u001b[38;5;28mprint\u001b[39m(\u001b[43mgauss\u001b[49m\u001b[43m(\u001b[49m\u001b[43mA\u001b[49m\u001b[43m,\u001b[49m\u001b[43mb\u001b[49m\u001b[43m)\u001b[49m)\n",
      "Input \u001b[1;32mIn [5]\u001b[0m, in \u001b[0;36mgauss\u001b[1;34m(A, b)\u001b[0m\n\u001b[0;32m      2\u001b[0m \u001b[38;5;28;01mif\u001b[39;00m \u001b[38;5;28many\u001b[39m(np\u001b[38;5;241m.\u001b[39mdiag(A)\u001b[38;5;241m==\u001b[39m\u001b[38;5;241m0\u001b[39m):\n\u001b[0;32m      3\u001b[0m     \u001b[38;5;28;01mraise\u001b[39;00m ZeroDevisionError((\u001b[38;5;124m'\u001b[39m\u001b[38;5;124mDivision by zero will occur; pivoting currently not supported\u001b[39m\u001b[38;5;124m'\u001b[39m))\n\u001b[1;32m----> 4\u001b[0m A,b\u001b[38;5;241m=\u001b[39m\u001b[43mforward_elimination\u001b[49m\u001b[43m(\u001b[49m\u001b[43mA\u001b[49m\u001b[43m,\u001b[49m\u001b[43mb\u001b[49m\u001b[43m)\u001b[49m\n\u001b[0;32m      5\u001b[0m \u001b[38;5;28;01mreturn\u001b[39;00m back_substitution(A,b)\n",
      "Input \u001b[1;32mIn [3]\u001b[0m, in \u001b[0;36mforward_elimination\u001b[1;34m(A, b)\u001b[0m\n\u001b[0;32m      2\u001b[0m n\u001b[38;5;241m=\u001b[39mA\u001b[38;5;241m.\u001b[39mshape[\u001b[38;5;241m0\u001b[39m]\n\u001b[0;32m      3\u001b[0m B\u001b[38;5;241m=\u001b[39mnp\u001b[38;5;241m.\u001b[39mhstack((A,b\u001b[38;5;241m.\u001b[39mreshape((n,\u001b[38;5;241m1\u001b[39m))))\n\u001b[1;32m----> 4\u001b[0m piv\u001b[38;5;241m=\u001b[39m\u001b[43mpivot\u001b[49m\u001b[43m(\u001b[49m\u001b[43mB\u001b[49m\u001b[43m,\u001b[49m\u001b[43m \u001b[49m\u001b[43mn\u001b[49m\u001b[43m)\u001b[49m\n\u001b[0;32m      5\u001b[0m \u001b[38;5;28;01mfor\u001b[39;00m row \u001b[38;5;129;01min\u001b[39;00m \u001b[38;5;28mrange\u001b[39m(\u001b[38;5;241m0\u001b[39m, n\u001b[38;5;241m-\u001b[39m\u001b[38;5;241m1\u001b[39m):\n\u001b[0;32m      6\u001b[0m     \u001b[38;5;28;01mfor\u001b[39;00m i \u001b[38;5;129;01min\u001b[39;00m \u001b[38;5;28mrange\u001b[39m(row\u001b[38;5;241m+\u001b[39m\u001b[38;5;241m1\u001b[39m, n):\n",
      "Input \u001b[1;32mIn [2]\u001b[0m, in \u001b[0;36mpivot\u001b[1;34m(B, n)\u001b[0m\n\u001b[0;32m      4\u001b[0m     a\u001b[38;5;241m.\u001b[39mappend(B[n\u001b[38;5;241m-\u001b[39m\u001b[38;5;241m2\u001b[39m]\u001b[38;5;241m/\u001b[39mB[n\u001b[38;5;241m-\u001b[39m\u001b[38;5;241m1\u001b[39m])\n\u001b[0;32m      5\u001b[0m     \u001b[38;5;28;01mfor\u001b[39;00m i \u001b[38;5;129;01min\u001b[39;00m \u001b[38;5;28mrange\u001b[39m(n\u001b[38;5;241m-\u001b[39m\u001b[38;5;241m2\u001b[39m):\n\u001b[1;32m----> 6\u001b[0m         \u001b[38;5;28;01mif\u001b[39;00m(\u001b[43mB\u001b[49m\u001b[43m[\u001b[49m\u001b[43mj\u001b[49m\u001b[43m]\u001b[49m\u001b[43m[\u001b[49m\u001b[43mi\u001b[49m\u001b[43m]\u001b[49m\u001b[38;5;241;43m/\u001b[39;49m\u001b[43mB\u001b[49m\u001b[43m[\u001b[49m\u001b[43mj\u001b[49m\u001b[43m]\u001b[49m\u001b[43m[\u001b[49m\u001b[43mn\u001b[49m\u001b[38;5;241;43m-\u001b[39;49m\u001b[38;5;241;43m1\u001b[39;49m\u001b[43m]\u001b[49m\u001b[43m \u001b[49m\u001b[38;5;241;43m<\u001b[39;49m\u001b[43m \u001b[49m\u001b[43ma\u001b[49m\u001b[43m[\u001b[49m\u001b[43mj\u001b[49m\u001b[43m]\u001b[49m):\n\u001b[0;32m      7\u001b[0m             a[j]\u001b[38;5;241m=\u001b[39mB[j][i]\u001b[38;5;241m/\u001b[39mB[j][n\u001b[38;5;241m-\u001b[39m\u001b[38;5;241m1\u001b[39m]\n\u001b[0;32m      8\u001b[0m ans\u001b[38;5;241m=\u001b[39mnp\u001b[38;5;241m.\u001b[39mmax(np\u001b[38;5;241m.\u001b[39mabs(B[:,:], acis\u001b[38;5;241m=\u001b[39m\u001b[38;5;241m1\u001b[39m))\n",
      "\u001b[1;31mValueError\u001b[0m: The truth value of an array with more than one element is ambiguous. Use a.any() or a.all()"
     ]
    }
   ],
   "source": [
    "A=np.array([[6., -2., 2, 4],\n",
    "            [-6, 4, 1, -18],\n",
    "            [12, -8, 6, 10],\n",
    "            [3, -13, 9, 3]])\n",
    "b=np.array([16, -34, 26, -19])\n",
    "print(gauss(A,b))"
   ]
  }
 ],
 "metadata": {
  "kernelspec": {
   "display_name": "Python 3 (ipykernel)",
   "language": "python",
   "name": "python3"
  },
  "language_info": {
   "codemirror_mode": {
    "name": "ipython",
    "version": 3
   },
   "file_extension": ".py",
   "mimetype": "text/x-python",
   "name": "python",
   "nbconvert_exporter": "python",
   "pygments_lexer": "ipython3",
   "version": "3.10.3"
  }
 },
 "nbformat": 4,
 "nbformat_minor": 5
}
